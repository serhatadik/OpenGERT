{
 "cells": [
  {
   "cell_type": "code",
   "execution_count": null,
   "metadata": {},
   "outputs": [],
   "source": [
    "import sionna\n",
    "try: # detect if the notebook runs in Colab\n",
    "    import google.colab\n",
    "    colab_compat = True # deactivate preview\n",
    "except:\n",
    "    colab_compat = False\n",
    "\n",
    "from sionna.rt import load_scene, PlanarArray, Transmitter, Receiver\n",
    "\n",
    "scene = load_scene(\"example_scene.xml\")\n",
    "scene.tx_array = PlanarArray(num_rows=1,\n",
    "                          num_cols=1,\n",
    "                          vertical_spacing=0.7,\n",
    "                          horizontal_spacing=0.5,\n",
    "                          pattern=\"tr38901\",\n",
    "                          polarization=\"VH\")\n",
    "\n",
    "# Configure antenna array for all receivers\n",
    "scene.rx_array = PlanarArray(num_rows=1,\n",
    "                          num_cols=1,\n",
    "                          vertical_spacing=0.5,\n",
    "                          horizontal_spacing=0.5,\n",
    "                          pattern=\"dipole\",\n",
    "                          polarization=\"cross\")\n",
    "\n",
    "# Create transmitter\n",
    "tx = Transmitter(name=\"tx\",\n",
    "              position=[8.5,21,140],\n",
    "              orientation=[0,0,0])\n",
    "scene.add(tx)\n",
    "\n",
    "\n",
    "# Create a receiver\n",
    "rx = Receiver(name=\"rx\",\n",
    "           position=[45,90,130],\n",
    "           orientation=[0,0,0])\n",
    "scene.add(rx)\n",
    "\n",
    "# TX points towards RX\n",
    "tx.look_at(rx)\n",
    "\n",
    "paths = scene.compute_paths(max_depth=5,\n",
    "                            num_samples=1e7)  # Number of rays shot into directions defined\n",
    "                                              # by a Fibonacci sphere , too few rays can\n",
    "resolution=(256,256)\n",
    "if colab_compat:\n",
    "    scene.render(camera=\"birds_view\", paths=paths, show_paths=True, num_samples=512, resolution=resolution);\n",
    "    raise ExitCell\n",
    "# Open 3D preview (only works in Jupyter notebook)\n",
    "scene.preview(paths, show_paths=True)"
   ]
  },
  {
   "cell_type": "code",
   "execution_count": null,
   "metadata": {},
   "outputs": [],
   "source": []
  }
 ],
 "metadata": {
  "language_info": {
   "name": "python"
  }
 },
 "nbformat": 4,
 "nbformat_minor": 2
}
